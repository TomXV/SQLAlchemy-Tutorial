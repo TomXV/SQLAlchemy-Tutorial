{
 "cells": [
  {
   "cell_type": "code",
   "execution_count": null,
   "metadata": {},
   "outputs": [],
   "source": [
    "import os\n",
    "from sqlalchemy import create_engine, desc, asc, Column, Integer, Float, String\n",
    "from sqlalchemy.orm import scoped_session, sessionmaker\n",
    "from sqlalchemy.ext.declarative import declarative_base"
   ]
  },
  {
   "cell_type": "code",
   "execution_count": null,
   "metadata": {},
   "outputs": [],
   "source": [
    "database_file = os.path.join(os.path.abspath(os.getcwd()), 'database.db')"
   ]
  },
  {
   "cell_type": "code",
   "execution_count": null,
   "metadata": {},
   "outputs": [],
   "source": [
    "engine = create_engine('sqlite:///' + database_file, convert_unicode=True, echo=True)"
   ]
  },
  {
   "cell_type": "code",
   "execution_count": null,
   "metadata": {},
   "outputs": [],
   "source": [
    "db_session = scoped_session(\n",
    "    sessionmaker(\n",
    "        autocommit = False,\n",
    "        autoflush = False,\n",
    "        bind = engine\n",
    "    )\n",
    ")"
   ]
  },
  {
   "cell_type": "code",
   "execution_count": null,
   "metadata": {},
   "outputs": [],
   "source": [
    "Base = declarative_base()\n",
    "Base.query = db_session.query_property()"
   ]
  },
  {
   "cell_type": "code",
   "execution_count": null,
   "metadata": {},
   "outputs": [],
   "source": [
    "class Table(Base):\n",
    "    __tablename__ = 'Table_1'\n",
    "    id = Column(Integer, primary_key=True)\n",
    "    server_id = Column(Integer, unique=False)\n",
    "    channel_id = Column(Integer, unique=False)\n",
    "\n",
    "    def __init__(self, server_id = None, channel_id = None):\n",
    "        self.server_id = server_id\n",
    "        self.channel_id = channel_id\n",
    "\n",
    "    Base.metadata.create_all(bind = engine)"
   ]
  },
  {
   "cell_type": "code",
   "execution_count": null,
   "metadata": {},
   "outputs": [],
   "source": [
    "input_server_id = input(\"Server ID?: \")\n",
    "input_channel_id = input(\"Channel ID?: \")\n",
    "raw = Table(server_id =input_server_id, channel_id = input_channel_id)\n",
    "db_session.add(raw)\n",
    "db_session.commit()"
   ]
  },
  {
   "cell_type": "code",
   "execution_count": null,
   "metadata": {},
   "outputs": [],
   "source": [
    "db = db_session.query(Table).all()"
   ]
  },
  {
   "cell_type": "code",
   "execution_count": null,
   "metadata": {},
   "outputs": [],
   "source": [
    "for row in db:\n",
    "    print(row.id, row.server_id, row.channel_id)"
   ]
  },
  {
   "cell_type": "code",
   "execution_count": null,
   "metadata": {},
   "outputs": [],
   "source": [
    "db = db_session.query(Table).first()\n",
    "db"
   ]
  },
  {
   "cell_type": "code",
   "execution_count": null,
   "metadata": {},
   "outputs": [],
   "source": [
    "select_id = input(\"Row ID?: \")\n",
    "db = db_session.query(Table).filter(Table.id == find_id).first()\n",
    "db.server_id = input(\"Server ID?: \")\n",
    "db.channel_id = input(\"Channel ID?: \")\n",
    "db_session.commit()"
   ]
  },
  {
   "cell_type": "code",
   "execution_count": null,
   "metadata": {},
   "outputs": [],
   "source": [
    "select_id = input(\"Row ID?: \")\n",
    "db_session.query(Table).filter(Table.id == select_id).delete()"
   ]
  },
  {
   "cell_type": "code",
   "execution_count": null,
   "metadata": {},
   "outputs": [],
   "source": []
  }
 ],
 "metadata": {
  "interpreter": {
   "hash": "52e053498130b939e74831f93fe3cc3898e0aabc908c82c44d92934e8c77091a"
  },
  "kernelspec": {
   "display_name": "Python 3.9.7 ('conda_env')",
   "language": "python",
   "name": "python3"
  },
  "language_info": {
   "codemirror_mode": {
    "name": "ipython",
    "version": 3
   },
   "file_extension": ".py",
   "mimetype": "text/x-python",
   "name": "python",
   "nbconvert_exporter": "python",
   "pygments_lexer": "ipython3",
   "version": "3.9.7"
  },
  "orig_nbformat": 4
 },
 "nbformat": 4,
 "nbformat_minor": 2
}
