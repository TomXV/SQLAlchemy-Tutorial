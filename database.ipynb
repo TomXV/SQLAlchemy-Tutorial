{
 "cells": [
  {
   "cell_type": "code",
   "execution_count": 21,
   "metadata": {},
   "outputs": [],
   "source": [
    "import os\n",
    "from sqlalchemy import create_engine, desc, asc, Column, Integer, Float, String\n",
    "from sqlalchemy.orm import scoped_session, sessionmaker\n",
    "from sqlalchemy.ext.declarative import declarative_base"
   ]
  },
  {
   "cell_type": "code",
   "execution_count": 2,
   "metadata": {},
   "outputs": [],
   "source": [
    "database_file = os.path.join(os.path.abspath(os.getcwd()), 'database.db')"
   ]
  },
  {
   "cell_type": "code",
   "execution_count": 3,
   "metadata": {},
   "outputs": [
    {
     "name": "stderr",
     "output_type": "stream",
     "text": [
      "C:\\Users\\user\\AppData\\Local\\Temp\\ipykernel_3724\\4036557790.py:1: SADeprecationWarning: The create_engine.convert_unicode parameter and corresponding dialect-level parameters are deprecated, and will be removed in a future release.  Modern DBAPIs support Python Unicode natively and this parameter is unnecessary.\n",
      "  engine = create_engine('sqlite:///' + database_file, convert_unicode=True, echo=True)\n"
     ]
    }
   ],
   "source": [
    "engine = create_engine('sqlite:///' + database_file, convert_unicode=True, echo=True)"
   ]
  },
  {
   "cell_type": "code",
   "execution_count": 4,
   "metadata": {},
   "outputs": [],
   "source": [
    "db_session = scoped_session(\n",
    "    sessionmaker(\n",
    "        autocommit = False,\n",
    "        autoflush = False,\n",
    "        bind = engine\n",
    "    )\n",
    ")"
   ]
  },
  {
   "cell_type": "code",
   "execution_count": 5,
   "metadata": {},
   "outputs": [],
   "source": [
    "Base = declarative_base()\n",
    "Base.query = db_session.query_property()"
   ]
  },
  {
   "cell_type": "code",
   "execution_count": 6,
   "metadata": {},
   "outputs": [
    {
     "name": "stdout",
     "output_type": "stream",
     "text": [
      "2022-02-10 19:21:38,153 INFO sqlalchemy.engine.Engine BEGIN (implicit)\n",
      "2022-02-10 19:21:38,154 INFO sqlalchemy.engine.Engine COMMIT\n"
     ]
    }
   ],
   "source": [
    "class Table(Base):\n",
    "    __tablename__ = 'Table_1'\n",
    "    id = Column(Integer, primary_key=True)\n",
    "    server_id = Column(Integer, unique=False)\n",
    "    channel_id = Column(Integer, unique=False)\n",
    "\n",
    "    def __init__(self, server_id = None, channel_id = None):\n",
    "        self.server_id = server_id\n",
    "        self.channel_id = channel_id\n",
    "\n",
    "    Base.metadata.create_all(bind = engine)"
   ]
  },
  {
   "cell_type": "code",
   "execution_count": 7,
   "metadata": {},
   "outputs": [],
   "source": [
    "input_server_id = input(\"Server ID?: \")\n",
    "input_channel_id = input(\"Channel ID?: \")\n",
    "raw = Table(server_id =input_server_id, channel_id = input_channel_id)\n",
    "db_session.add(raw)\n",
    "db_session.commit()"
   ]
  },
  {
   "cell_type": "code",
   "execution_count": 68,
   "metadata": {},
   "outputs": [
    {
     "name": "stdout",
     "output_type": "stream",
     "text": [
      "2022-02-10 21:33:06,564 INFO sqlalchemy.engine.Engine SELECT \"Table_1\".id AS \"Table_1_id\", \"Table_1\".server_id AS \"Table_1_server_id\", \"Table_1\".channel_id AS \"Table_1_channel_id\" \n",
      "FROM \"Table_1\"\n",
      "2022-02-10 21:33:06,565 INFO sqlalchemy.engine.Engine [cached since 7868s ago] ()\n"
     ]
    }
   ],
   "source": [
    "db = db_session.query(Table).all()"
   ]
  },
  {
   "cell_type": "code",
   "execution_count": 69,
   "metadata": {},
   "outputs": [
    {
     "name": "stdout",
     "output_type": "stream",
     "text": [
      "1 123456789 0\n"
     ]
    }
   ],
   "source": [
    "for row in db:\n",
    "    print(row.id, row.server_id, row.channel_id)"
   ]
  },
  {
   "cell_type": "code",
   "execution_count": 57,
   "metadata": {},
   "outputs": [
    {
     "name": "stdout",
     "output_type": "stream",
     "text": [
      "2022-02-10 21:23:04,071 INFO sqlalchemy.engine.Engine SELECT \"Table_1\".id AS \"Table_1_id\", \"Table_1\".server_id AS \"Table_1_server_id\", \"Table_1\".channel_id AS \"Table_1_channel_id\" \n",
      "FROM \"Table_1\"\n",
      " LIMIT ? OFFSET ?\n",
      "2022-02-10 21:23:04,072 INFO sqlalchemy.engine.Engine [cached since 5458s ago] (1, 0)\n"
     ]
    },
    {
     "data": {
      "text/plain": [
       "<__main__.Table at 0x2ca18d68a30>"
      ]
     },
     "execution_count": 57,
     "metadata": {},
     "output_type": "execute_result"
    }
   ],
   "source": [
    "db = db_session.query(Table).first()\n",
    "db"
   ]
  },
  {
   "cell_type": "code",
   "execution_count": 61,
   "metadata": {},
   "outputs": [
    {
     "name": "stdout",
     "output_type": "stream",
     "text": [
      "2022-02-10 21:26:03,563 INFO sqlalchemy.engine.Engine SELECT \"Table_1\".id AS \"Table_1_id\", \"Table_1\".server_id AS \"Table_1_server_id\", \"Table_1\".channel_id AS \"Table_1_channel_id\" \n",
      "FROM \"Table_1\" \n",
      "WHERE \"Table_1\".id = ?\n",
      " LIMIT ? OFFSET ?\n",
      "2022-02-10 21:26:03,564 INFO sqlalchemy.engine.Engine [cached since 61.12s ago] ('2', 1, 0)\n",
      "2022-02-10 21:26:05,933 INFO sqlalchemy.engine.Engine UPDATE \"Table_1\" SET server_id=?, channel_id=? WHERE \"Table_1\".id = ?\n",
      "2022-02-10 21:26:05,940 INFO sqlalchemy.engine.Engine [cached since 5010s ago] ('0', '0', 2)\n",
      "2022-02-10 21:26:05,944 INFO sqlalchemy.engine.Engine COMMIT\n"
     ]
    }
   ],
   "source": [
    "select_id = input(\"Row ID?: \")\n",
    "db = db_session.query(Table).filter(Table.id == find_id).first()\n",
    "db.server_id = input(\"Server ID?: \")\n",
    "db.channel_id = input(\"Channel ID?: \")\n",
    "db_session.commit()"
   ]
  },
  {
   "cell_type": "code",
   "execution_count": 67,
   "metadata": {},
   "outputs": [
    {
     "name": "stdout",
     "output_type": "stream",
     "text": [
      "2022-02-10 21:32:50,639 INFO sqlalchemy.engine.Engine DELETE FROM \"Table_1\" WHERE \"Table_1\".id = ?\n",
      "2022-02-10 21:32:50,642 INFO sqlalchemy.engine.Engine [generated in 0.00333s] ('2',)\n"
     ]
    }
   ],
   "source": [
    "select_id = input(\"Row ID?: \")\n",
    "db = db_session.query(Table).filter(Table.id == select_id).delete()"
   ]
  },
  {
   "cell_type": "code",
   "execution_count": null,
   "metadata": {},
   "outputs": [],
   "source": []
  }
 ],
 "metadata": {
  "language_info": {
   "name": "python"
  },
  "orig_nbformat": 4
 },
 "nbformat": 4,
 "nbformat_minor": 2
}
